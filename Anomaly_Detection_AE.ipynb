{
  "cells": [
    {
      "cell_type": "markdown",
      "id": "ce588462",
      "metadata": {
        "id": "ce588462"
      },
      "source": [
        "\n",
        "# Anomaly Detection of Parasitized Blood Cells using a Convolutional Autoencoder (CAE)\n",
        "\n",
        "**Repository-ready, cleaned version** — personal names removed.\n",
        "\n",
        "**How to use**\n",
        "1. Place your dataset in the repository with this structure:\n",
        "```\n",
        "data/\n",
        " ├── Uninfected/\n",
        " └── Parasitized/\n",
        "```\n",
        "2. Open and run this notebook cell-by-cell in Jupyter or Google Colab.\n",
        "3. The notebook trains a CAE on *Uninfected* images, evaluates reconstruction error, and uses Kernel Density Estimation (KDE) on encoder features to help flag anomalies.\n",
        "\n",
        "Notes:\n",
        "- If you want to show results without training, you can run only inference cells if you provide a saved model.\n",
        "- All paths use relative `data/` directories for easy GitHub publishing.\n"
      ]
    },
    {
      "cell_type": "code",
      "execution_count": 7,
      "id": "87fa21eb",
      "metadata": {
        "id": "87fa21eb"
      },
      "outputs": [],
      "source": [
        "\n",
        "# Imports and environment setup\n",
        "import os\n",
        "import glob\n",
        "import random\n",
        "import shutil\n",
        "from PIL import Image\n",
        "import numpy as np\n",
        "import matplotlib.pyplot as plt\n",
        "\n",
        "import tensorflow as tf\n",
        "from tensorflow.keras import layers, models, optimizers\n",
        "from tensorflow.keras.preprocessing.image import ImageDataGenerator\n",
        "\n",
        "from sklearn.neighbors import KernelDensity\n",
        "from sklearn.metrics import roc_curve, auc\n"
      ]
    },
    {
      "cell_type": "code",
      "execution_count": 8,
      "id": "a72a174f",
      "metadata": {
        "colab": {
          "base_uri": "https://localhost:8080/"
        },
        "id": "a72a174f",
        "outputId": "775665bb-246d-4bd6-bd5f-031c65ad88d7"
      },
      "outputs": [
        {
          "output_type": "stream",
          "name": "stdout",
          "text": [
            "Uninfected exists: False\n",
            "Parasitized exists: False\n"
          ]
        }
      ],
      "source": [
        "\n",
        "# Parameters\n",
        "SIZE = 128\n",
        "BATCH_SIZE = 32\n",
        "RANDOM_SEED = 42\n",
        "np.random.seed(RANDOM_SEED)\n",
        "random.seed(RANDOM_SEED)\n",
        "tf.random.set_seed(RANDOM_SEED)\n",
        "\n",
        "# Expected folders\n",
        "UNINF_DIR = 'data/Uninfected'\n",
        "PARA_DIR = 'data/Parasitized'\n",
        "\n",
        "# Quick sanity checks\n",
        "print('Uninfected exists:', os.path.isdir(UNINF_DIR))\n",
        "print('Parasitized exists:', os.path.isdir(PARA_DIR))\n"
      ]
    },
    {
      "cell_type": "code",
      "execution_count": 9,
      "id": "88962568",
      "metadata": {
        "colab": {
          "base_uri": "https://localhost:8080/"
        },
        "id": "88962568",
        "outputId": "4ba33536-5087-4bb7-e753-9e4eb50c5d0e"
      },
      "outputs": [
        {
          "output_type": "stream",
          "name": "stdout",
          "text": [
            "Found 0 images belonging to 1 classes.\n",
            "Found 0 images belonging to 1 classes.\n",
            "Found 0 images belonging to 1 classes.\n"
          ]
        }
      ],
      "source": [
        "\n",
        "# Data generators (autoencoder style: x == y)\n",
        "def autoencoder_generator(generator):\n",
        "    for batch in generator:\n",
        "        yield (batch, batch)\n",
        "\n",
        "datagen = ImageDataGenerator(rescale=1./255, validation_split=0.2)\n",
        "\n",
        "train_generator_raw = datagen.flow_from_directory(\n",
        "    'data',\n",
        "    classes=['Uninfected'],\n",
        "    target_size=(SIZE, SIZE),\n",
        "    batch_size=BATCH_SIZE,\n",
        "    class_mode=None,\n",
        "    shuffle=True,\n",
        "    subset='training'\n",
        ")\n",
        "\n",
        "validation_generator_raw = datagen.flow_from_directory(\n",
        "    'data',\n",
        "    classes=['Uninfected'],\n",
        "    target_size=(SIZE, SIZE),\n",
        "    batch_size=BATCH_SIZE,\n",
        "    class_mode=None,\n",
        "    shuffle=True,\n",
        "    subset='validation'\n",
        ")\n",
        "\n",
        "anomaly_generator_raw = datagen.flow_from_directory(\n",
        "    'data',\n",
        "    classes=['Parasitized'],\n",
        "    target_size=(SIZE, SIZE),\n",
        "    batch_size=BATCH_SIZE,\n",
        "    class_mode=None,\n",
        "    shuffle=True\n",
        ")\n",
        "\n",
        "train_generator = autoencoder_generator(train_generator_raw)\n",
        "validation_generator = autoencoder_generator(validation_generator_raw)\n",
        "anomaly_generator = autoencoder_generator(anomaly_generator_raw)\n"
      ]
    },
    {
      "cell_type": "code",
      "execution_count": 10,
      "id": "cb0d7a92",
      "metadata": {
        "colab": {
          "base_uri": "https://localhost:8080/",
          "height": 571
        },
        "id": "cb0d7a92",
        "outputId": "b0501dab-21dd-4d98-ed99-b4cc13a2d305"
      },
      "outputs": [
        {
          "output_type": "display_data",
          "data": {
            "text/plain": [
              "\u001b[1mModel: \"conv_autoencoder\"\u001b[0m\n"
            ],
            "text/html": [
              "<pre style=\"white-space:pre;overflow-x:auto;line-height:normal;font-family:Menlo,'DejaVu Sans Mono',consolas,'Courier New',monospace\"><span style=\"font-weight: bold\">Model: \"conv_autoencoder\"</span>\n",
              "</pre>\n"
            ]
          },
          "metadata": {}
        },
        {
          "output_type": "display_data",
          "data": {
            "text/plain": [
              "┏━━━━━━━━━━━━━━━━━━━━━━━━━━━━━━━━━┳━━━━━━━━━━━━━━━━━━━━━━━━┳━━━━━━━━━━━━━━━┓\n",
              "┃\u001b[1m \u001b[0m\u001b[1mLayer (type)                   \u001b[0m\u001b[1m \u001b[0m┃\u001b[1m \u001b[0m\u001b[1mOutput Shape          \u001b[0m\u001b[1m \u001b[0m┃\u001b[1m \u001b[0m\u001b[1m      Param #\u001b[0m\u001b[1m \u001b[0m┃\n",
              "┡━━━━━━━━━━━━━━━━━━━━━━━━━━━━━━━━━╇━━━━━━━━━━━━━━━━━━━━━━━━╇━━━━━━━━━━━━━━━┩\n",
              "│ input_layer_1 (\u001b[38;5;33mInputLayer\u001b[0m)      │ (\u001b[38;5;45mNone\u001b[0m, \u001b[38;5;34m128\u001b[0m, \u001b[38;5;34m128\u001b[0m, \u001b[38;5;34m3\u001b[0m)    │             \u001b[38;5;34m0\u001b[0m │\n",
              "├─────────────────────────────────┼────────────────────────┼───────────────┤\n",
              "│ conv2d_7 (\u001b[38;5;33mConv2D\u001b[0m)               │ (\u001b[38;5;45mNone\u001b[0m, \u001b[38;5;34m128\u001b[0m, \u001b[38;5;34m128\u001b[0m, \u001b[38;5;34m64\u001b[0m)   │         \u001b[38;5;34m1,792\u001b[0m │\n",
              "├─────────────────────────────────┼────────────────────────┼───────────────┤\n",
              "│ max_pooling2d_3 (\u001b[38;5;33mMaxPooling2D\u001b[0m)  │ (\u001b[38;5;45mNone\u001b[0m, \u001b[38;5;34m64\u001b[0m, \u001b[38;5;34m64\u001b[0m, \u001b[38;5;34m64\u001b[0m)     │             \u001b[38;5;34m0\u001b[0m │\n",
              "├─────────────────────────────────┼────────────────────────┼───────────────┤\n",
              "│ conv2d_8 (\u001b[38;5;33mConv2D\u001b[0m)               │ (\u001b[38;5;45mNone\u001b[0m, \u001b[38;5;34m64\u001b[0m, \u001b[38;5;34m64\u001b[0m, \u001b[38;5;34m32\u001b[0m)     │        \u001b[38;5;34m18,464\u001b[0m │\n",
              "├─────────────────────────────────┼────────────────────────┼───────────────┤\n",
              "│ max_pooling2d_4 (\u001b[38;5;33mMaxPooling2D\u001b[0m)  │ (\u001b[38;5;45mNone\u001b[0m, \u001b[38;5;34m32\u001b[0m, \u001b[38;5;34m32\u001b[0m, \u001b[38;5;34m32\u001b[0m)     │             \u001b[38;5;34m0\u001b[0m │\n",
              "├─────────────────────────────────┼────────────────────────┼───────────────┤\n",
              "│ conv2d_9 (\u001b[38;5;33mConv2D\u001b[0m)               │ (\u001b[38;5;45mNone\u001b[0m, \u001b[38;5;34m32\u001b[0m, \u001b[38;5;34m32\u001b[0m, \u001b[38;5;34m16\u001b[0m)     │         \u001b[38;5;34m4,624\u001b[0m │\n",
              "├─────────────────────────────────┼────────────────────────┼───────────────┤\n",
              "│ max_pooling2d_5 (\u001b[38;5;33mMaxPooling2D\u001b[0m)  │ (\u001b[38;5;45mNone\u001b[0m, \u001b[38;5;34m16\u001b[0m, \u001b[38;5;34m16\u001b[0m, \u001b[38;5;34m16\u001b[0m)     │             \u001b[38;5;34m0\u001b[0m │\n",
              "├─────────────────────────────────┼────────────────────────┼───────────────┤\n",
              "│ conv2d_10 (\u001b[38;5;33mConv2D\u001b[0m)              │ (\u001b[38;5;45mNone\u001b[0m, \u001b[38;5;34m16\u001b[0m, \u001b[38;5;34m16\u001b[0m, \u001b[38;5;34m16\u001b[0m)     │         \u001b[38;5;34m2,320\u001b[0m │\n",
              "├─────────────────────────────────┼────────────────────────┼───────────────┤\n",
              "│ up_sampling2d_3 (\u001b[38;5;33mUpSampling2D\u001b[0m)  │ (\u001b[38;5;45mNone\u001b[0m, \u001b[38;5;34m32\u001b[0m, \u001b[38;5;34m32\u001b[0m, \u001b[38;5;34m16\u001b[0m)     │             \u001b[38;5;34m0\u001b[0m │\n",
              "├─────────────────────────────────┼────────────────────────┼───────────────┤\n",
              "│ conv2d_11 (\u001b[38;5;33mConv2D\u001b[0m)              │ (\u001b[38;5;45mNone\u001b[0m, \u001b[38;5;34m32\u001b[0m, \u001b[38;5;34m32\u001b[0m, \u001b[38;5;34m32\u001b[0m)     │         \u001b[38;5;34m4,640\u001b[0m │\n",
              "├─────────────────────────────────┼────────────────────────┼───────────────┤\n",
              "│ up_sampling2d_4 (\u001b[38;5;33mUpSampling2D\u001b[0m)  │ (\u001b[38;5;45mNone\u001b[0m, \u001b[38;5;34m64\u001b[0m, \u001b[38;5;34m64\u001b[0m, \u001b[38;5;34m32\u001b[0m)     │             \u001b[38;5;34m0\u001b[0m │\n",
              "├─────────────────────────────────┼────────────────────────┼───────────────┤\n",
              "│ conv2d_12 (\u001b[38;5;33mConv2D\u001b[0m)              │ (\u001b[38;5;45mNone\u001b[0m, \u001b[38;5;34m64\u001b[0m, \u001b[38;5;34m64\u001b[0m, \u001b[38;5;34m64\u001b[0m)     │        \u001b[38;5;34m18,496\u001b[0m │\n",
              "├─────────────────────────────────┼────────────────────────┼───────────────┤\n",
              "│ up_sampling2d_5 (\u001b[38;5;33mUpSampling2D\u001b[0m)  │ (\u001b[38;5;45mNone\u001b[0m, \u001b[38;5;34m128\u001b[0m, \u001b[38;5;34m128\u001b[0m, \u001b[38;5;34m64\u001b[0m)   │             \u001b[38;5;34m0\u001b[0m │\n",
              "├─────────────────────────────────┼────────────────────────┼───────────────┤\n",
              "│ conv2d_13 (\u001b[38;5;33mConv2D\u001b[0m)              │ (\u001b[38;5;45mNone\u001b[0m, \u001b[38;5;34m128\u001b[0m, \u001b[38;5;34m128\u001b[0m, \u001b[38;5;34m3\u001b[0m)    │         \u001b[38;5;34m1,731\u001b[0m │\n",
              "└─────────────────────────────────┴────────────────────────┴───────────────┘\n"
            ],
            "text/html": [
              "<pre style=\"white-space:pre;overflow-x:auto;line-height:normal;font-family:Menlo,'DejaVu Sans Mono',consolas,'Courier New',monospace\">┏━━━━━━━━━━━━━━━━━━━━━━━━━━━━━━━━━┳━━━━━━━━━━━━━━━━━━━━━━━━┳━━━━━━━━━━━━━━━┓\n",
              "┃<span style=\"font-weight: bold\"> Layer (type)                    </span>┃<span style=\"font-weight: bold\"> Output Shape           </span>┃<span style=\"font-weight: bold\">       Param # </span>┃\n",
              "┡━━━━━━━━━━━━━━━━━━━━━━━━━━━━━━━━━╇━━━━━━━━━━━━━━━━━━━━━━━━╇━━━━━━━━━━━━━━━┩\n",
              "│ input_layer_1 (<span style=\"color: #0087ff; text-decoration-color: #0087ff\">InputLayer</span>)      │ (<span style=\"color: #00d7ff; text-decoration-color: #00d7ff\">None</span>, <span style=\"color: #00af00; text-decoration-color: #00af00\">128</span>, <span style=\"color: #00af00; text-decoration-color: #00af00\">128</span>, <span style=\"color: #00af00; text-decoration-color: #00af00\">3</span>)    │             <span style=\"color: #00af00; text-decoration-color: #00af00\">0</span> │\n",
              "├─────────────────────────────────┼────────────────────────┼───────────────┤\n",
              "│ conv2d_7 (<span style=\"color: #0087ff; text-decoration-color: #0087ff\">Conv2D</span>)               │ (<span style=\"color: #00d7ff; text-decoration-color: #00d7ff\">None</span>, <span style=\"color: #00af00; text-decoration-color: #00af00\">128</span>, <span style=\"color: #00af00; text-decoration-color: #00af00\">128</span>, <span style=\"color: #00af00; text-decoration-color: #00af00\">64</span>)   │         <span style=\"color: #00af00; text-decoration-color: #00af00\">1,792</span> │\n",
              "├─────────────────────────────────┼────────────────────────┼───────────────┤\n",
              "│ max_pooling2d_3 (<span style=\"color: #0087ff; text-decoration-color: #0087ff\">MaxPooling2D</span>)  │ (<span style=\"color: #00d7ff; text-decoration-color: #00d7ff\">None</span>, <span style=\"color: #00af00; text-decoration-color: #00af00\">64</span>, <span style=\"color: #00af00; text-decoration-color: #00af00\">64</span>, <span style=\"color: #00af00; text-decoration-color: #00af00\">64</span>)     │             <span style=\"color: #00af00; text-decoration-color: #00af00\">0</span> │\n",
              "├─────────────────────────────────┼────────────────────────┼───────────────┤\n",
              "│ conv2d_8 (<span style=\"color: #0087ff; text-decoration-color: #0087ff\">Conv2D</span>)               │ (<span style=\"color: #00d7ff; text-decoration-color: #00d7ff\">None</span>, <span style=\"color: #00af00; text-decoration-color: #00af00\">64</span>, <span style=\"color: #00af00; text-decoration-color: #00af00\">64</span>, <span style=\"color: #00af00; text-decoration-color: #00af00\">32</span>)     │        <span style=\"color: #00af00; text-decoration-color: #00af00\">18,464</span> │\n",
              "├─────────────────────────────────┼────────────────────────┼───────────────┤\n",
              "│ max_pooling2d_4 (<span style=\"color: #0087ff; text-decoration-color: #0087ff\">MaxPooling2D</span>)  │ (<span style=\"color: #00d7ff; text-decoration-color: #00d7ff\">None</span>, <span style=\"color: #00af00; text-decoration-color: #00af00\">32</span>, <span style=\"color: #00af00; text-decoration-color: #00af00\">32</span>, <span style=\"color: #00af00; text-decoration-color: #00af00\">32</span>)     │             <span style=\"color: #00af00; text-decoration-color: #00af00\">0</span> │\n",
              "├─────────────────────────────────┼────────────────────────┼───────────────┤\n",
              "│ conv2d_9 (<span style=\"color: #0087ff; text-decoration-color: #0087ff\">Conv2D</span>)               │ (<span style=\"color: #00d7ff; text-decoration-color: #00d7ff\">None</span>, <span style=\"color: #00af00; text-decoration-color: #00af00\">32</span>, <span style=\"color: #00af00; text-decoration-color: #00af00\">32</span>, <span style=\"color: #00af00; text-decoration-color: #00af00\">16</span>)     │         <span style=\"color: #00af00; text-decoration-color: #00af00\">4,624</span> │\n",
              "├─────────────────────────────────┼────────────────────────┼───────────────┤\n",
              "│ max_pooling2d_5 (<span style=\"color: #0087ff; text-decoration-color: #0087ff\">MaxPooling2D</span>)  │ (<span style=\"color: #00d7ff; text-decoration-color: #00d7ff\">None</span>, <span style=\"color: #00af00; text-decoration-color: #00af00\">16</span>, <span style=\"color: #00af00; text-decoration-color: #00af00\">16</span>, <span style=\"color: #00af00; text-decoration-color: #00af00\">16</span>)     │             <span style=\"color: #00af00; text-decoration-color: #00af00\">0</span> │\n",
              "├─────────────────────────────────┼────────────────────────┼───────────────┤\n",
              "│ conv2d_10 (<span style=\"color: #0087ff; text-decoration-color: #0087ff\">Conv2D</span>)              │ (<span style=\"color: #00d7ff; text-decoration-color: #00d7ff\">None</span>, <span style=\"color: #00af00; text-decoration-color: #00af00\">16</span>, <span style=\"color: #00af00; text-decoration-color: #00af00\">16</span>, <span style=\"color: #00af00; text-decoration-color: #00af00\">16</span>)     │         <span style=\"color: #00af00; text-decoration-color: #00af00\">2,320</span> │\n",
              "├─────────────────────────────────┼────────────────────────┼───────────────┤\n",
              "│ up_sampling2d_3 (<span style=\"color: #0087ff; text-decoration-color: #0087ff\">UpSampling2D</span>)  │ (<span style=\"color: #00d7ff; text-decoration-color: #00d7ff\">None</span>, <span style=\"color: #00af00; text-decoration-color: #00af00\">32</span>, <span style=\"color: #00af00; text-decoration-color: #00af00\">32</span>, <span style=\"color: #00af00; text-decoration-color: #00af00\">16</span>)     │             <span style=\"color: #00af00; text-decoration-color: #00af00\">0</span> │\n",
              "├─────────────────────────────────┼────────────────────────┼───────────────┤\n",
              "│ conv2d_11 (<span style=\"color: #0087ff; text-decoration-color: #0087ff\">Conv2D</span>)              │ (<span style=\"color: #00d7ff; text-decoration-color: #00d7ff\">None</span>, <span style=\"color: #00af00; text-decoration-color: #00af00\">32</span>, <span style=\"color: #00af00; text-decoration-color: #00af00\">32</span>, <span style=\"color: #00af00; text-decoration-color: #00af00\">32</span>)     │         <span style=\"color: #00af00; text-decoration-color: #00af00\">4,640</span> │\n",
              "├─────────────────────────────────┼────────────────────────┼───────────────┤\n",
              "│ up_sampling2d_4 (<span style=\"color: #0087ff; text-decoration-color: #0087ff\">UpSampling2D</span>)  │ (<span style=\"color: #00d7ff; text-decoration-color: #00d7ff\">None</span>, <span style=\"color: #00af00; text-decoration-color: #00af00\">64</span>, <span style=\"color: #00af00; text-decoration-color: #00af00\">64</span>, <span style=\"color: #00af00; text-decoration-color: #00af00\">32</span>)     │             <span style=\"color: #00af00; text-decoration-color: #00af00\">0</span> │\n",
              "├─────────────────────────────────┼────────────────────────┼───────────────┤\n",
              "│ conv2d_12 (<span style=\"color: #0087ff; text-decoration-color: #0087ff\">Conv2D</span>)              │ (<span style=\"color: #00d7ff; text-decoration-color: #00d7ff\">None</span>, <span style=\"color: #00af00; text-decoration-color: #00af00\">64</span>, <span style=\"color: #00af00; text-decoration-color: #00af00\">64</span>, <span style=\"color: #00af00; text-decoration-color: #00af00\">64</span>)     │        <span style=\"color: #00af00; text-decoration-color: #00af00\">18,496</span> │\n",
              "├─────────────────────────────────┼────────────────────────┼───────────────┤\n",
              "│ up_sampling2d_5 (<span style=\"color: #0087ff; text-decoration-color: #0087ff\">UpSampling2D</span>)  │ (<span style=\"color: #00d7ff; text-decoration-color: #00d7ff\">None</span>, <span style=\"color: #00af00; text-decoration-color: #00af00\">128</span>, <span style=\"color: #00af00; text-decoration-color: #00af00\">128</span>, <span style=\"color: #00af00; text-decoration-color: #00af00\">64</span>)   │             <span style=\"color: #00af00; text-decoration-color: #00af00\">0</span> │\n",
              "├─────────────────────────────────┼────────────────────────┼───────────────┤\n",
              "│ conv2d_13 (<span style=\"color: #0087ff; text-decoration-color: #0087ff\">Conv2D</span>)              │ (<span style=\"color: #00d7ff; text-decoration-color: #00d7ff\">None</span>, <span style=\"color: #00af00; text-decoration-color: #00af00\">128</span>, <span style=\"color: #00af00; text-decoration-color: #00af00\">128</span>, <span style=\"color: #00af00; text-decoration-color: #00af00\">3</span>)    │         <span style=\"color: #00af00; text-decoration-color: #00af00\">1,731</span> │\n",
              "└─────────────────────────────────┴────────────────────────┴───────────────┘\n",
              "</pre>\n"
            ]
          },
          "metadata": {}
        },
        {
          "output_type": "display_data",
          "data": {
            "text/plain": [
              "\u001b[1m Total params: \u001b[0m\u001b[38;5;34m52,067\u001b[0m (203.39 KB)\n"
            ],
            "text/html": [
              "<pre style=\"white-space:pre;overflow-x:auto;line-height:normal;font-family:Menlo,'DejaVu Sans Mono',consolas,'Courier New',monospace\"><span style=\"font-weight: bold\"> Total params: </span><span style=\"color: #00af00; text-decoration-color: #00af00\">52,067</span> (203.39 KB)\n",
              "</pre>\n"
            ]
          },
          "metadata": {}
        },
        {
          "output_type": "display_data",
          "data": {
            "text/plain": [
              "\u001b[1m Trainable params: \u001b[0m\u001b[38;5;34m52,067\u001b[0m (203.39 KB)\n"
            ],
            "text/html": [
              "<pre style=\"white-space:pre;overflow-x:auto;line-height:normal;font-family:Menlo,'DejaVu Sans Mono',consolas,'Courier New',monospace\"><span style=\"font-weight: bold\"> Trainable params: </span><span style=\"color: #00af00; text-decoration-color: #00af00\">52,067</span> (203.39 KB)\n",
              "</pre>\n"
            ]
          },
          "metadata": {}
        },
        {
          "output_type": "display_data",
          "data": {
            "text/plain": [
              "\u001b[1m Non-trainable params: \u001b[0m\u001b[38;5;34m0\u001b[0m (0.00 B)\n"
            ],
            "text/html": [
              "<pre style=\"white-space:pre;overflow-x:auto;line-height:normal;font-family:Menlo,'DejaVu Sans Mono',consolas,'Courier New',monospace\"><span style=\"font-weight: bold\"> Non-trainable params: </span><span style=\"color: #00af00; text-decoration-color: #00af00\">0</span> (0.00 B)\n",
              "</pre>\n"
            ]
          },
          "metadata": {}
        }
      ],
      "source": [
        "\n",
        "# Build convolutional autoencoder\n",
        "def build_autoencoder(input_shape=(SIZE, SIZE, 3)):\n",
        "    inputs = layers.Input(shape=input_shape)\n",
        "    # Encoder\n",
        "    x = layers.Conv2D(64, (3,3), activation='relu', padding='same')(inputs)\n",
        "    x = layers.MaxPooling2D((2,2), padding='same')(x)\n",
        "    x = layers.Conv2D(32, (3,3), activation='relu', padding='same')(x)\n",
        "    x = layers.MaxPooling2D((2,2), padding='same')(x)\n",
        "    x = layers.Conv2D(16, (3,3), activation='relu', padding='same')(x)\n",
        "    encoded = layers.MaxPooling2D((2,2), padding='same')(x)\n",
        "    # Decoder\n",
        "    x = layers.Conv2D(16, (3,3), activation='relu', padding='same')(encoded)\n",
        "    x = layers.UpSampling2D((2,2))(x)\n",
        "    x = layers.Conv2D(32, (3,3), activation='relu', padding='same')(x)\n",
        "    x = layers.UpSampling2D((2,2))(x)\n",
        "    x = layers.Conv2D(64, (3,3), activation='relu', padding='same')(x)\n",
        "    x = layers.UpSampling2D((2,2))(x)\n",
        "    outputs = layers.Conv2D(3, (3,3), activation='sigmoid', padding='same')(x)\n",
        "    model = models.Model(inputs, outputs, name='conv_autoencoder')\n",
        "    return model\n",
        "\n",
        "model = build_autoencoder()\n",
        "model.compile(optimizer='adam', loss='mean_squared_error', metrics=['mse'])\n",
        "model.summary()\n"
      ]
    },
    {
      "cell_type": "code",
      "execution_count": 11,
      "id": "36e0c2ec",
      "metadata": {
        "colab": {
          "base_uri": "https://localhost:8080/",
          "height": 834
        },
        "id": "36e0c2ec",
        "outputId": "71e5d52a-85af-4ed9-a94d-4847f177bbba"
      },
      "outputs": [
        {
          "output_type": "stream",
          "name": "stdout",
          "text": [
            "Epoch 1/10\n",
            "\u001b[1m15/15\u001b[0m \u001b[32m━━━━━━━━━━━━━━━━━━━━\u001b[0m\u001b[37m\u001b[0m \u001b[1m4s\u001b[0m 40ms/step - loss: 0.0000e+00 - mse: 0.0000e+00 - val_loss: 0.0000e+00 - val_mse: 0.0000e+00\n",
            "Epoch 2/10\n",
            "\u001b[1m15/15\u001b[0m \u001b[32m━━━━━━━━━━━━━━━━━━━━\u001b[0m\u001b[37m\u001b[0m \u001b[1m0s\u001b[0m 5ms/step - loss: 0.0000e+00 - mse: 0.0000e+00 - val_loss: 0.0000e+00 - val_mse: 0.0000e+00\n",
            "Epoch 3/10\n",
            "\u001b[1m15/15\u001b[0m \u001b[32m━━━━━━━━━━━━━━━━━━━━\u001b[0m\u001b[37m\u001b[0m \u001b[1m0s\u001b[0m 5ms/step - loss: 0.0000e+00 - mse: 0.0000e+00 - val_loss: 0.0000e+00 - val_mse: 0.0000e+00\n",
            "Epoch 4/10\n",
            "\u001b[1m15/15\u001b[0m \u001b[32m━━━━━━━━━━━━━━━━━━━━\u001b[0m\u001b[37m\u001b[0m \u001b[1m0s\u001b[0m 5ms/step - loss: 0.0000e+00 - mse: 0.0000e+00 - val_loss: 0.0000e+00 - val_mse: 0.0000e+00\n",
            "Epoch 5/10\n",
            "\u001b[1m15/15\u001b[0m \u001b[32m━━━━━━━━━━━━━━━━━━━━\u001b[0m\u001b[37m\u001b[0m \u001b[1m0s\u001b[0m 10ms/step - loss: 0.0000e+00 - mse: 0.0000e+00 - val_loss: 0.0000e+00 - val_mse: 0.0000e+00\n",
            "Epoch 6/10\n",
            "\u001b[1m15/15\u001b[0m \u001b[32m━━━━━━━━━━━━━━━━━━━━\u001b[0m\u001b[37m\u001b[0m \u001b[1m0s\u001b[0m 10ms/step - loss: 0.0000e+00 - mse: 0.0000e+00 - val_loss: 0.0000e+00 - val_mse: 0.0000e+00\n",
            "Epoch 7/10\n",
            "\u001b[1m15/15\u001b[0m \u001b[32m━━━━━━━━━━━━━━━━━━━━\u001b[0m\u001b[37m\u001b[0m \u001b[1m0s\u001b[0m 5ms/step - loss: 0.0000e+00 - mse: 0.0000e+00 - val_loss: 0.0000e+00 - val_mse: 0.0000e+00\n",
            "Epoch 8/10\n",
            "\u001b[1m15/15\u001b[0m \u001b[32m━━━━━━━━━━━━━━━━━━━━\u001b[0m\u001b[37m\u001b[0m \u001b[1m0s\u001b[0m 6ms/step - loss: 0.0000e+00 - mse: 0.0000e+00 - val_loss: 0.0000e+00 - val_mse: 0.0000e+00\n",
            "Epoch 9/10\n",
            "\u001b[1m15/15\u001b[0m \u001b[32m━━━━━━━━━━━━━━━━━━━━\u001b[0m\u001b[37m\u001b[0m \u001b[1m0s\u001b[0m 10ms/step - loss: 0.0000e+00 - mse: 0.0000e+00 - val_loss: 0.0000e+00 - val_mse: 0.0000e+00\n",
            "Epoch 10/10\n",
            "\u001b[1m15/15\u001b[0m \u001b[32m━━━━━━━━━━━━━━━━━━━━\u001b[0m\u001b[37m\u001b[0m \u001b[1m0s\u001b[0m 10ms/step - loss: 0.0000e+00 - mse: 0.0000e+00 - val_loss: 0.0000e+00 - val_mse: 0.0000e+00\n"
          ]
        },
        {
          "output_type": "display_data",
          "data": {
            "text/plain": [
              "<Figure size 800x500 with 1 Axes>"
            ],
            "image/png": "[encoded data removed]"
          },
          "metadata": {}
        }
      ],
      "source": [
        "\n",
        "# Training - small default epochs to keep runtime reasonable; adjust as needed\n",
        "EPOCHS = 10  # Increase to 50 or more for better results\n",
        "\n",
        "steps_per_epoch = max(1, 500 // BATCH_SIZE)\n",
        "validation_steps = max(1, 75 // BATCH_SIZE)\n",
        "\n",
        "history = model.fit(\n",
        "    train_generator,\n",
        "    steps_per_epoch=steps_per_epoch,\n",
        "    epochs=EPOCHS,\n",
        "    validation_data=validation_generator,\n",
        "    validation_steps=validation_steps,\n",
        "    shuffle=True\n",
        ")\n",
        "\n",
        "# Plot training/validation loss\n",
        "loss = history.history['loss']\n",
        "val_loss = history.history['val_loss']\n",
        "epochs_range = range(1, len(loss)+1)\n",
        "plt.figure(figsize=(8,5))\n",
        "plt.plot(epochs_range, loss, label='Training loss')\n",
        "plt.plot(epochs_range, val_loss, label='Validation loss')\n",
        "plt.xlabel('Epochs'); plt.ylabel('Loss'); plt.title('Training & Validation Loss')\n",
        "plt.legend(); plt.grid(True)\n",
        "plt.show()\n"
      ]
    },
    {
      "cell_type": "code",
      "execution_count": 12,
      "id": "c6cdb7c8",
      "metadata": {
        "colab": {
          "base_uri": "https://localhost:8080/",
          "height": 245
        },
        "id": "c6cdb7c8",
        "outputId": "77710721-3b6b-400a-f0ed-76c1713aeb7f"
      },
      "outputs": [
        {
          "output_type": "error",
          "ename": "ValueError",
          "evalue": "'a' cannot be empty unless no samples are taken",
          "traceback": [
            "\u001b[0;31m---------------------------------------------------------------------------\u001b[0m",
            "\u001b[0;31mValueError\u001b[0m                                Traceback (most recent call last)",
            "\u001b[0;32m/tmp/ipython-input-2276574276.py\u001b[0m in \u001b[0;36m<cell line: 0>\u001b[0;34m()\u001b[0m\n\u001b[1;32m      6\u001b[0m \u001b[0;31m# Predict reconstructions on a few examples\u001b[0m\u001b[0;34m\u001b[0m\u001b[0;34m\u001b[0m\u001b[0m\n\u001b[1;32m      7\u001b[0m \u001b[0mn_examples\u001b[0m \u001b[0;34m=\u001b[0m \u001b[0;36m3\u001b[0m\u001b[0;34m\u001b[0m\u001b[0;34m\u001b[0m\u001b[0m\n\u001b[0;32m----> 8\u001b[0;31m \u001b[0msample_idxs\u001b[0m \u001b[0;34m=\u001b[0m \u001b[0mnp\u001b[0m\u001b[0;34m.\u001b[0m\u001b[0mrandom\u001b[0m\u001b[0;34m.\u001b[0m\u001b[0mchoice\u001b[0m\u001b[0;34m(\u001b[0m\u001b[0mrange\u001b[0m\u001b[0;34m(\u001b[0m\u001b[0mnormal_batch\u001b[0m\u001b[0;34m.\u001b[0m\u001b[0mshape\u001b[0m\u001b[0;34m[\u001b[0m\u001b[0;36m0\u001b[0m\u001b[0;34m]\u001b[0m\u001b[0;34m)\u001b[0m\u001b[0;34m,\u001b[0m \u001b[0mn_examples\u001b[0m\u001b[0;34m,\u001b[0m \u001b[0mreplace\u001b[0m\u001b[0;34m=\u001b[0m\u001b[0;32mFalse\u001b[0m\u001b[0;34m)\u001b[0m\u001b[0;34m\u001b[0m\u001b[0;34m\u001b[0m\u001b[0m\n\u001b[0m\u001b[1;32m      9\u001b[0m \u001b[0mreconstructions\u001b[0m \u001b[0;34m=\u001b[0m \u001b[0mmodel\u001b[0m\u001b[0;34m.\u001b[0m\u001b[0mpredict\u001b[0m\u001b[0;34m(\u001b[0m\u001b[0mnormal_batch\u001b[0m\u001b[0;34m[\u001b[0m\u001b[0msample_idxs\u001b[0m\u001b[0;34m]\u001b[0m\u001b[0;34m)\u001b[0m\u001b[0;34m\u001b[0m\u001b[0;34m\u001b[0m\u001b[0m\n\u001b[1;32m     10\u001b[0m \u001b[0;34m\u001b[0m\u001b[0m\n",
            "\u001b[0;32mnumpy/random/mtrand.pyx\u001b[0m in \u001b[0;36mnumpy.random.mtrand.RandomState.choice\u001b[0;34m()\u001b[0m\n",
            "\u001b[0;31mValueError\u001b[0m: 'a' cannot be empty unless no samples are taken"
          ]
        }
      ],
      "source": [
        "\n",
        "# Visualize reconstruction example\n",
        "# Get a batch of training (normal) images\n",
        "normal_batch = next(train_generator)[0]\n",
        "anomaly_batch = next(anomaly_generator)[0]\n",
        "\n",
        "# Predict reconstructions on a few examples\n",
        "n_examples = 3\n",
        "sample_idxs = np.random.choice(range(normal_batch.shape[0]), n_examples, replace=False)\n",
        "reconstructions = model.predict(normal_batch[sample_idxs])\n",
        "\n",
        "plt.figure(figsize=(12,6))\n",
        "for i, idx in enumerate(sample_idxs):\n",
        "    plt.subplot(2, n_examples, i+1)\n",
        "    plt.imshow(normal_batch[idx])\n",
        "    plt.title('Original'); plt.axis('off')\n",
        "    plt.subplot(2, n_examples, n_examples + i + 1)\n",
        "    plt.imshow(reconstructions[i])\n",
        "    plt.title('Reconstructed'); plt.axis('off')\n",
        "plt.tight_layout(); plt.show()\n"
      ]
    },
    {
      "cell_type": "code",
      "execution_count": null,
      "id": "f4aea1e2",
      "metadata": {
        "id": "f4aea1e2"
      },
      "outputs": [],
      "source": [
        "\n",
        "# Compute reconstruction error for a batch of normal and anomaly images\n",
        "def batch_recon_error(model, images):\n",
        "    preds = model.predict(images)\n",
        "    errors = np.mean(np.square(preds - images), axis=(1,2,3))\n",
        "    return errors\n",
        "\n",
        "normal_batch = next(train_generator)[0]\n",
        "anomaly_batch = next(anomaly_generator)[0]\n",
        "\n",
        "normal_errors = batch_recon_error(model, normal_batch)\n",
        "anomaly_errors = batch_recon_error(model, anomaly_batch)\n",
        "\n",
        "print('Normal mean error:', normal_errors.mean(), 'std:', normal_errors.std())\n",
        "print('Anomaly mean error:', anomaly_errors.mean(), 'std:', anomaly_errors.std())\n",
        "\n",
        "# Plot distributions\n",
        "plt.figure(figsize=(8,5))\n",
        "plt.hist(normal_errors, bins=30, alpha=0.6, label='Normal')\n",
        "plt.hist(anomaly_errors, bins=30, alpha=0.6, label='Anomaly')\n",
        "plt.legend(); plt.xlabel('Reconstruction MSE'); plt.ylabel('Count'); plt.title('Error Distributions')\n",
        "plt.show()\n"
      ]
    },
    {
      "cell_type": "code",
      "execution_count": null,
      "id": "d9db2d9c",
      "metadata": {
        "id": "d9db2d9c"
      },
      "outputs": [],
      "source": [
        "\n",
        "# Build encoder model (reuse encoder layers from autoencoder)\n",
        "from tensorflow.keras.models import Model\n",
        "\n",
        "# find the layer corresponding to the deepest pooling (encoded output)\n",
        "# We will create an encoder that outputs the encoded feature maps\n",
        "encoder_layer_output = model.layers[6].output  # based on construction; verify with model.summary()\n",
        "encoder = Model(inputs=model.input, outputs=encoder_layer_output, name='encoder')\n",
        "encoder.summary()\n",
        "\n",
        "# Function to get encoded vectors from a generator\n",
        "def get_encoded_vectors(generator, max_batches=10):\n",
        "    encoded_list = []\n",
        "    batch_count = 0\n",
        "    g = generator\n",
        "    while batch_count < max_batches:\n",
        "        batch = next(g)[0]\n",
        "        encoded = encoder.predict(batch)\n",
        "        # flatten each encoded sample\n",
        "        encoded_flat = encoded.reshape((encoded.shape[0], -1))\n",
        "        encoded_list.append(encoded_flat)\n",
        "        batch_count += 1\n",
        "    return np.vstack(encoded_list)\n",
        "\n",
        "encodings = get_encoded_vectors(train_generator, max_batches=10)\n",
        "print('Encodings shape:', encodings.shape)\n",
        "\n",
        "# Fit KDE on encoded vectors\n",
        "kde = KernelDensity(kernel='gaussian', bandwidth=0.2).fit(encodings)\n"
      ]
    },
    {
      "cell_type": "code",
      "execution_count": null,
      "id": "ceaf8faa",
      "metadata": {
        "id": "ceaf8faa"
      },
      "outputs": [],
      "source": [
        "\n",
        "# Calculate density score and recon error for one image\n",
        "def calc_density_and_recon(img_array):\n",
        "    # img_array: numpy array [H,W,3] scaled [0,1]\n",
        "    img_batch = img_array[np.newaxis, ...]\n",
        "    encoded = encoder.predict(img_batch)\n",
        "    encoded_flat = encoded.reshape((1, -1))\n",
        "    density = kde.score_samples(encoded_flat)[0]\n",
        "    recon = model.predict(img_batch)\n",
        "    recon_error = np.mean(np.square(recon - img_batch))\n",
        "    return density, recon_error\n",
        "\n",
        "# Test on a few images (from anomaly_batch and normal_batch)\n",
        "examples = []\n",
        "for i in range(3):\n",
        "    dens_n, err_n = calc_density_and_recon(normal_batch[i])\n",
        "    dens_a, err_a = calc_density_and_recon(anomaly_batch[i])\n",
        "    examples.append(('normal', dens_n, err_n))\n",
        "    examples.append(('anomaly', dens_a, err_a))\n",
        "\n",
        "for label, d, e in examples:\n",
        "    print(f'{label:7s}  density: {d:.3f}   recon_error: {e:.6f}')\n"
      ]
    },
    {
      "cell_type": "code",
      "execution_count": null,
      "id": "8add6a9a",
      "metadata": {
        "id": "8add6a9a"
      },
      "outputs": [],
      "source": [
        "\n",
        "# Visualize selected images with density & reconstruction scores\n",
        "fig, axes = plt.subplots(2, 6, figsize=(18,6))\n",
        "valid_anomalies = []\n",
        "valid_normals = []\n",
        "\n",
        "# Search for images meeting simple thresholds (adjust thresholds for your data)\n",
        "recon_threshold = (normal_errors.mean() + 1.0 * normal_errors.std())\n",
        "density_threshold = np.percentile(encodings.sum(axis=1), 25)  # simple proxy\n",
        "\n",
        "# collect up to 6 anomalies and 6 normals\n",
        "para_paths = glob.glob(os.path.join(PARA_DIR, '*'))\n",
        "uninf_paths = glob.glob(os.path.join(UNINF_DIR, '*'))\n",
        "\n",
        "i_a = i_n = 0\n",
        "for p in para_paths:\n",
        "    if i_a >= 6: break\n",
        "    img = Image.open(p).resize((SIZE, SIZE), Image.Resampling.LANCZOS)\n",
        "    arr = np.array(img)/255.0\n",
        "    d, e = calc_density_and_recon(arr)\n",
        "    if e > recon_threshold:\n",
        "        valid_anomalies.append((p, d, e))\n",
        "        i_a += 1\n",
        "\n",
        "for p in uninf_paths:\n",
        "    if i_n >= 6: break\n",
        "    img = Image.open(p).resize((SIZE, SIZE), Image.Resampling.LANCZOS)\n",
        "    arr = np.array(img)/255.0\n",
        "    d, e = calc_density_and_recon(arr)\n",
        "    if e <= recon_threshold:\n",
        "        valid_normals.append((p, d, e))\n",
        "        i_n += 1\n",
        "\n",
        "# Plot results (if found)\n",
        "for i, (img_path, d, e) in enumerate(valid_anomalies):\n",
        "    img = Image.open(img_path).resize((SIZE, SIZE), Image.Resampling.LANCZOS)\n",
        "    axes[0, i].imshow(np.array(img))\n",
        "    axes[0, i].set_title(f'Anomaly\\nD:{d:.2f}\\nE:{e:.5f}')\n",
        "    axes[0, i].axis('off')\n",
        "\n",
        "for i, (img_path, d, e) in enumerate(valid_normals):\n",
        "    img = Image.open(img_path).resize((SIZE, SIZE), Image.Resampling.LANCZOS)\n",
        "    axes[1, i].imshow(np.array(img))\n",
        "    axes[1, i].set_title(f'Normal\\nD:{d:.2f}\\nE:{e:.5f}')\n",
        "    axes[1, i].axis('off')\n",
        "\n",
        "plt.tight_layout(); plt.show()\n"
      ]
    },
    {
      "cell_type": "markdown",
      "id": "52a07014",
      "metadata": {
        "id": "52a07014"
      },
      "source": [
        "\n",
        "---\n",
        "\n",
        "**End of notebook.**\n",
        "\n",
        "If you'd like:\n",
        "- I can also add a `requirements.txt` for the repo.\n",
        "- I can save the trained model automatically to a `models/` folder in the notebook.\n",
        "- I can reduce EPOCHS to a smaller value for quicker demo runs.\n"
      ]
    },
    {
      "cell_type": "code",
      "source": [],
      "metadata": {
        "id": "-3_V_C3Hhhtn"
      },
      "id": "-3_V_C3Hhhtn",
      "execution_count": null,
      "outputs": []
    }
  ],
  "metadata": {
    "colab": {
      "provenance": []
    },
    "language_info": {
      "name": "python"
    },
    "kernelspec": {
      "name": "python3",
      "display_name": "Python 3"
    }
  },
  "nbformat": 4,
  "nbformat_minor": 5
}